{
 "cells": [
  {
   "cell_type": "markdown",
   "id": "3eaf41c2-aa92-4ee5-a3c7-417ce4a0db7e",
   "metadata": {},
   "source": [
    "# diffdock"
   ]
  },
  {
   "cell_type": "code",
   "execution_count": null,
   "id": "63dd489d-fe80-44fb-80ca-9d19cc3fd313",
   "metadata": {},
   "outputs": [],
   "source": [
    "from docko import *\n",
    "\n",
    "smiles = 'CCCCC(CC)COC(=O)C1=CC=CC=C1C(=O)OCC(CC)CCCC'\n",
    "\n",
    "base_dir = '/disk1/ariane/vscode/docko/tests/'\n",
    "dock(sequence='', protein_name='A0A0H2V871', smiles=smiles, ligand_name='dehp', residues=[86, 89], \n",
    "     protein_dir=f'{base_dir}/', ligand_dir=f'{base_dir}/', output_dir=f'{base_dir}/',\n",
    "     pH=7.4, method='diffdock')\n",
    "\n",
    "# Will output to a folder here\n",
    "os.path.isdir(f'{base_dir}/')\n",
    "print(os.system(f'ls {base_dir}/'))"
   ]
  }
 ],
 "metadata": {
  "kernelspec": {
   "display_name": "Python 3 (ipykernel)",
   "language": "python",
   "name": "python3"
  },
  "language_info": {
   "codemirror_mode": {
    "name": "ipython",
    "version": 3
   },
   "file_extension": ".py",
   "mimetype": "text/x-python",
   "name": "python",
   "nbconvert_exporter": "python",
   "pygments_lexer": "ipython3",
   "version": "3.10.14"
  }
 },
 "nbformat": 4,
 "nbformat_minor": 5
}
