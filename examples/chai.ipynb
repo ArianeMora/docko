{
 "cells": [
  {
   "cell_type": "markdown",
   "id": "3ffe2f13-80f3-4322-95d7-3242bf9297bb",
   "metadata": {},
   "source": [
    "# Chai"
   ]
  },
  {
   "cell_type": "code",
   "execution_count": null,
   "id": "51af1571-0c3d-41ee-9e2e-3bf2c32ee846",
   "metadata": {},
   "source": [
    "from docko import *\n",
    "\n",
    "base_dir = '/disk1/ariane/vscode/docko/tests/'\n",
    "run_chai('A0A0E3LLD2_METBA', \n",
    "         'MSIEKIPGYTYGKTESMSPLNLEDLKLLKDSVMFTEEDEKYLKKAGEVLEDQVEEILDTWYGFVGSHPHLLYYFTSPDGTPNEEYLAAVRKRFSKWILDTCNRNYDQAWLDYQYEIGLRHHRTKKNRTDNVESVPNINYRYLVAFIYPITATIKPFLARKGHTSEEVEKMHQAWFKATVLQVALWSYPYVKQGDF', \n",
    "         'CCCCC(CC)COC(=O)C1=CC=CC=C1C(=O)OCC(CC)CCCC',\n",
    "         base_dir\n",
    "        )\n",
    "\n",
    "# Will output to a folder here\n",
    "os.path.isdir(f'{base_dir}A0A0E3LLD2_METBA/')\n",
    "print(os.system(f'ls {base_dir}A0A0E3LLD2_METBA/'))"
   ],
   "outputs": []
  }
 ],
 "metadata": {
  "kernelspec": {
   "display_name": "Python 3 (ipykernel)",
   "language": "python",
   "name": "python3"
  },
  "language_info": {
   "codemirror_mode": {
    "name": "ipython",
    "version": 3
   },
   "file_extension": ".py",
   "mimetype": "text/x-python",
   "name": "python",
   "nbconvert_exporter": "python",
   "pygments_lexer": "ipython3",
   "version": "3.10.14"
  }
 },
 "nbformat": 4,
 "nbformat_minor": 5
}
