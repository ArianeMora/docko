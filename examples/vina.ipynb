{
 "cells": [
  {
   "cell_type": "markdown",
   "id": "1cdcb197-be93-46bb-a4ad-9ebe4bde4535",
   "metadata": {},
   "source": [
    "# Vina"
   ]
  },
  {
   "cell_type": "code",
   "execution_count": 2,
   "id": "ce9b7273-f7f9-4c2a-8499-c78e2d274385",
   "metadata": {},
   "outputs": [
    {
     "ename": "ModuleNotFoundError",
     "evalue": "No module named 'docko'",
     "output_type": "error",
     "traceback": [
      "\u001b[0;31m---------------------------------------------------------------------------\u001b[0m",
      "\u001b[0;31mModuleNotFoundError\u001b[0m                       Traceback (most recent call last)",
      "Cell \u001b[0;32mIn[2], line 1\u001b[0m\n\u001b[0;32m----> 1\u001b[0m \u001b[38;5;28;01mfrom\u001b[39;00m \u001b[38;5;21;01mdocko\u001b[39;00m \u001b[38;5;28;01mimport\u001b[39;00m \u001b[38;5;241m*\u001b[39m\n\u001b[1;32m      3\u001b[0m smiles \u001b[38;5;241m=\u001b[39m \u001b[38;5;124m'\u001b[39m\u001b[38;5;124mCCCCC(CC)COC(=O)C1=CC=CC=C1C(=O)OCC(CC)CCCC\u001b[39m\u001b[38;5;124m'\u001b[39m\n\u001b[1;32m      5\u001b[0m base_dir \u001b[38;5;241m=\u001b[39m \u001b[38;5;124m'\u001b[39m\u001b[38;5;124m/disk1/ariane/vscode/docko/tests/\u001b[39m\u001b[38;5;124m'\u001b[39m\n",
      "\u001b[0;31mModuleNotFoundError\u001b[0m: No module named 'docko'"
     ]
    }
   ],
   "source": [
    "from docko import *\n",
    "\n",
    "smiles = 'CCCCC(CC)COC(=O)C1=CC=CC=C1C(=O)OCC(CC)CCCC'\n",
    "\n",
    "base_dir = '/disk1/ariane/vscode/docko/tests/'\n",
    "\n",
    "dock(sequence='', protein_name='A0A0H2V871', smiles=smiles, ligand_name='DEHP', residues=[113], \n",
    "                  protein_dir=f'{base_dir}/', ligand_dir=f'{base_dir}/', output_dir=f'{base_dir}/', pH=7.4, method='vina')\n",
    "os.path.isfile(f'{base_dir}A0A0H2V871-DEHP_log.txt')\n",
    "\n",
    "with open(f'{base_dir}A0A0H2V871-DEHP_log.txt', 'r+') as fin:\n",
    "    for line in fin:\n",
    "        print(line)"
   ]
  },
  {
   "cell_type": "code",
   "execution_count": null,
   "id": "ed55e20e-d0e3-49b7-ba64-59894c0a2fba",
   "metadata": {},
   "outputs": [],
   "source": [
    "from docko import *\n",
    "\n",
    "## Testing for Autodock 4 with that forcefield, this only works on a linux computer\n",
    "\n",
    "smiles = 'CCCCC(CC)COC(=O)C1=CC=CC=C1C(=O)OCC(CC)CCCC'\n",
    "\n",
    "base_dir = '/disk1/ariane/vscode/docko/tests/'\n",
    "\n",
    "dock(sequence='', protein_name='A0A0H2V871', smiles=smiles, ligand_name='DEHP', residues=[113], \n",
    "                  protein_dir=f'{base_dir}/', ligand_dir=f'{base_dir}/', output_dir=f'{base_dir}/', pH=7.4, method='ad4')\n",
    "os.path.isfile(f'{base_dir}A0A0H2V871-DEHP_log.txt')\n",
    "\n",
    "with open(f'{base_dir}A0A0H2V871-DEHP_log.txt', 'r+') as fin:\n",
    "    for line in fin:"
   ]
  },
  {
   "cell_type": "code",
   "execution_count": null,
   "id": "e864e463-e078-4139-b7c1-e3da3d3bd660",
   "metadata": {},
   "outputs": [],
   "source": [
    "# Dock a dataframe\n"
   ]
  }
 ],
 "metadata": {
  "kernelspec": {
   "display_name": "Python 3 (ipykernel)",
   "language": "python",
   "name": "python3"
  },
  "language_info": {
   "codemirror_mode": {
    "name": "ipython",
    "version": 3
   },
   "file_extension": ".py",
   "mimetype": "text/x-python",
   "name": "python",
   "nbconvert_exporter": "python",
   "pygments_lexer": "ipython3",
   "version": "3.11.8"
  }
 },
 "nbformat": 4,
 "nbformat_minor": 5
}
