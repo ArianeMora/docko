{
 "cells": [
  {
   "cell_type": "markdown",
   "id": "1cdcb197-be93-46bb-a4ad-9ebe4bde4535",
   "metadata": {},
   "source": [
    "# Vina"
   ]
  },
  {
   "cell_type": "code",
   "execution_count": null,
   "id": "ce9b7273-f7f9-4c2a-8499-c78e2d274385",
   "metadata": {},
   "outputs": [],
   "source": [
    "from docko import *\n",
    "\n",
    "smiles = 'CCCCC(CC)COC(=O)C1=CC=CC=C1C(=O)OCC(CC)CCCC'\n",
    "\n",
    "base_dir = '/disk1/ariane/vscode/docko/tests/'\n",
    "\n",
    "dock(sequence='', protein_name='A0A0H2V871', smiles=smiles, ligand_name='DEHP', residues=[113], \n",
    "                  protein_dir=f'{base_dir}/', ligand_dir=f'{base_dir}/', output_dir=f'{base_dir}/', pH=7.4, method='vina')\n",
    "os.path.isfile(f'{base_dir}A0A0H2V871-DEHP_log.txt')\n",
    "\n",
    "with open(f'{base_dir}A0A0H2V871-DEHP_log.txt', 'r+') as fin:\n",
    "    for line in fin:"
   ]
  },
  {
   "cell_type": "code",
   "execution_count": null,
   "id": "ed55e20e-d0e3-49b7-ba64-59894c0a2fba",
   "metadata": {},
   "outputs": [],
   "source": [
    "from docko import *\n",
    "\n",
    "## Testing for Autodock 4 with that forcefield, this only works on a linux computer\n",
    "\n",
    "smiles = 'CCCCC(CC)COC(=O)C1=CC=CC=C1C(=O)OCC(CC)CCCC'\n",
    "\n",
    "base_dir = '/disk1/ariane/vscode/docko/tests/'\n",
    "\n",
    "dock(sequence='', protein_name='A0A0H2V871', smiles=smiles, ligand_name='DEHP', residues=[113], \n",
    "                  protein_dir=f'{base_dir}/', ligand_dir=f'{base_dir}/', output_dir=f'{base_dir}/', pH=7.4, method='ad4')\n",
    "os.path.isfile(f'{base_dir}A0A0H2V871-DEHP_log.txt')\n",
    "\n",
    "with open(f'{base_dir}A0A0H2V871-DEHP_log.txt', 'r+') as fin:\n",
    "    for line in fin:"
   ]
  },
  {
   "cell_type": "code",
   "execution_count": null,
   "id": "e864e463-e078-4139-b7c1-e3da3d3bd660",
   "metadata": {},
   "outputs": [],
   "source": [
    "# Dock a dataframe\n"
   ]
  }
 ],
 "metadata": {
  "kernelspec": {
   "display_name": "Python 3 (ipykernel)",
   "language": "python",
   "name": "python3"
  },
  "language_info": {
   "codemirror_mode": {
    "name": "ipython",
    "version": 3
   },
   "file_extension": ".py",
   "mimetype": "text/x-python",
   "name": "python",
   "nbconvert_exporter": "python",
   "pygments_lexer": "ipython3",
   "version": "3.10.14"
  }
 },
 "nbformat": 4,
 "nbformat_minor": 5
}
